{
 "cells": [
  {
   "cell_type": "code",
   "execution_count": 1,
   "id": "598741c3-4ffa-4a76-a71f-fd454b7792fc",
   "metadata": {},
   "outputs": [
    {
     "name": "stdout",
     "output_type": "stream",
     "text": [
      "Total CelebA images: 162770\n"
     ]
    }
   ],
   "source": [
    "import torch\n",
    "import torchvision.transforms as transforms\n",
    "import torchvision.datasets as datasets\n",
    "from torch.utils.data import DataLoader, Dataset\n",
    "import matplotlib.pyplot as plt\n",
    "import random\n",
    "from collections import defaultdict\n",
    "\n",
    "# Device configuration\n",
    "device = torch.device(\"cuda\" if torch.cuda.is_available() else \"cpu\")\n",
    "\n",
    "# Define transforms (Resize, Normalize)\n",
    "transform = transforms.Compose([\n",
    "    transforms.Resize((160, 160)),\n",
    "    transforms.ToTensor(),\n",
    "    transforms.Normalize(mean=[0.5], std=[0.5])  # Normalization for stability\n",
    "])\n",
    "\n",
    "# Load CelebA dataset\n",
    "celeba_dataset = datasets.CelebA(root=\"./data\", transform=transform, download=False)\n",
    "\n",
    "# Dataset size\n",
    "print(f\"Total CelebA images: {len(celeba_dataset)}\")\n",
    "\n",
    "# Visualize an image\n",
    "def show_image(img, title=\"\"):\n",
    "    img = img.permute(1, 2, 0).numpy() * 0.5 + 0.5  # Unnormalize\n",
    "    plt.imshow(img)\n",
    "    plt.title(title)\n",
    "    plt.axis(\"off\")\n",
    "    plt.show()\n",
    "\n"
   ]
  },
  {
   "cell_type": "code",
   "execution_count": null,
   "id": "df75cbe0-88be-4634-b43e-b97818924a4d",
   "metadata": {},
   "outputs": [],
   "source": [
    "x = [1, 2, 3, 4, 5]\n",
    "y = [2, 3, 5, 7, 11]\n",
    "\n",
    "plt.plot(x, y)\n",
    "plt.xlabel('X-axis')\n",
    "plt.ylabel('Y-axis')\n",
    "plt.title('Sample Plot')\n",
    "plt.show()\n"
   ]
  },
  {
   "cell_type": "code",
   "execution_count": 2,
   "id": "3602dfcd-d54a-4a6f-906b-50a590b109ef",
   "metadata": {},
   "outputs": [],
   "source": [
    "sample_img, sample_label = celeba_dataset[2]\n",
    "\n",
    "img = sample_img.permute(1, 2, 0).numpy() * 0.5 + 0.5  # Unnormalize"
   ]
  },
  {
   "cell_type": "code",
   "execution_count": null,
   "id": "3deb6810-f07c-463b-b738-ca583be0d4bc",
   "metadata": {},
   "outputs": [
    {
     "data": {
      "text/plain": [
       "<matplotlib.image.AxesImage at 0x1dbee4b1670>"
      ]
     },
     "execution_count": 3,
     "metadata": {},
     "output_type": "execute_result"
    }
   ],
   "source": [
    "# Display sample image\n",
    "plt.imshow(img)"
   ]
  },
  {
   "cell_type": "code",
   "execution_count": null,
   "id": "33ff538c-8678-4d97-8de0-3053a8deecd6",
   "metadata": {},
   "outputs": [],
   "source": [
    "import os\n",
    "import torch\n",
    "from facenet_pytorch import MTCNN\n",
    "from torchvision import datasets, transforms\n",
    "from PIL import Image\n",
    "\n",
    "# Initialize MTCNN face detector\n",
    "mtcnn = MTCNN(image_size=160, margin=20)\n",
    "\n",
    "# CelebA dataset paths\n",
    "data_dir = \"data/celeba/img_align_celeba\"\n",
    "identity_file = \"celeba/identity_CelebA.txt\"\n",
    "\n",
    "# Load identity mapping\n",
    "id_map = {}\n",
    "with open(identity_file, \"r\") as f:\n",
    "    for line in f:\n",
    "        img_name, person_id = line.strip().split()\n",
    "        id_map[img_name] = int(person_id)\n",
    "\n",
    "# Define transformations\n",
    "transform = transforms.Compose([\n",
    "    transforms.Resize((160, 160)),\n",
    "    transforms.ToTensor()\n",
    "])\n",
    "\n",
    "# Custom Dataset for CelebA\n",
    "class CelebADataset(torch.utils.data.Dataset):\n",
    "    def __init__(self, root_dir, id_map, transform=None):\n",
    "        self.root_dir = root_dir\n",
    "        self.id_map = id_map\n",
    "        self.transform = transform\n",
    "        self.img_names = list(id_map.keys())\n",
    "\n",
    "    def __getitem__(self, index):\n",
    "        img_name = self.img_names[index]\n",
    "        img_path = os.path.join(self.root_dir, img_name)\n",
    "        label = self.id_map[img_name]\n",
    "\n",
    "        img = Image.open(img_path).convert(\"RGB\")\n",
    "\n",
    "        # Face Detection & Cropping\n",
    "        face = mtcnn(img)\n",
    "        if face is None:\n",
    "            return self.__getitem__((index + 1) % len(self.img_names))  # Skip bad images\n",
    "\n",
    "        if self.transform:\n",
    "            face = self.transform(face)\n",
    "\n",
    "        return face, label\n",
    "\n",
    "    def __len__(self):\n",
    "        return len(self.img_names)\n",
    "\n",
    "# Load dataset\n",
    "dataset = CelebADataset(data_dir, id_map, transform)\n",
    "data_loader = torch.utils.data.DataLoader(dataset, batch_size=32, shuffle=True)\n",
    "\n",
    "print(f\"Dataset Size: {len(dataset)}\")"
   ]
  },
  {
   "cell_type": "code",
   "execution_count": null,
   "id": "dfe570f1-4f0d-4842-8437-85751ed5ed92",
   "metadata": {},
   "outputs": [],
   "source": [
    "import torchvision\n",
    "print(torchvision.__version__)"
   ]
  },
  {
   "cell_type": "code",
   "execution_count": null,
   "id": "eae1ff25-8aab-4dc7-bbb2-5ac179873ffa",
   "metadata": {},
   "outputs": [],
   "source": []
  }
 ],
 "metadata": {
  "kernelspec": {
   "display_name": "Python 3 (ipykernel)",
   "language": "python",
   "name": "python3"
  },
  "language_info": {
   "codemirror_mode": {
    "name": "ipython",
    "version": 3
   },
   "file_extension": ".py",
   "mimetype": "text/x-python",
   "name": "python",
   "nbconvert_exporter": "python",
   "pygments_lexer": "ipython3",
   "version": "3.9.20"
  }
 },
 "nbformat": 4,
 "nbformat_minor": 5
}
